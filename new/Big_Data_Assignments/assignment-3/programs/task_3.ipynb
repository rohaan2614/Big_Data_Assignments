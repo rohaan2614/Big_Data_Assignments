{
 "cells": [
  {
   "attachments": {},
   "cell_type": "markdown",
   "metadata": {},
   "source": [
    "This notebook was used during development to incrementally test the program for task 3"
   ]
  },
  {
   "cell_type": "markdown",
   "metadata": {},
   "source": [
    "### Library"
   ]
  },
  {
   "cell_type": "code",
   "execution_count": 22,
   "metadata": {},
   "outputs": [],
   "source": [
    "import psycopg2\n",
    "import time\n",
    "import itertools"
   ]
  },
  {
   "cell_type": "markdown",
   "metadata": {},
   "source": [
    "### Constants"
   ]
  },
  {
   "cell_type": "code",
   "execution_count": 23,
   "metadata": {},
   "outputs": [],
   "source": [
    "TABLE = 'task_1'\n",
    "VALID_FDS = {}"
   ]
  },
  {
   "cell_type": "markdown",
   "metadata": {},
   "source": [
    "### Helper Methods"
   ]
  },
  {
   "cell_type": "code",
   "execution_count": 24,
   "metadata": {},
   "outputs": [],
   "source": [
    "def create_query_string(LHS=[], RHS=[], table=TABLE):\n",
    "    \"creates a the query that will return whether RHS has a functional dependency on LHS.\"\n",
    "    if type(LHS) == str : \n",
    "        LHS = [LHS]\n",
    "    if type(RHS) == str : \n",
    "        RHS = [RHS]\n",
    "    \n",
    "    \n",
    "    LHS_string = ''\n",
    "    for lhs in LHS:\n",
    "        LHS_string += lhs + ', '\n",
    "    LHS_string = LHS_string[:-2]\n",
    "\n",
    "    RHS_string_1 = ''\n",
    "    RHS_string_2 = ''\n",
    "    RHS_string_3 = ''\n",
    "    for rhs in RHS:\n",
    "        RHS_string_1 += f'COUNT({rhs}), '\n",
    "        RHS_string_2 += rhs + ', '\n",
    "        RHS_string_3 += f'COUNT({rhs}) > 1 AND '\n",
    "    \n",
    "    RHS_string_1 = RHS_string_1[:-2]\n",
    "    RHS_string_2 = RHS_string_2[:-2]\n",
    "    RHS_string_3 = RHS_string_3[:-5]\n",
    "\n",
    "    query_string = f'SELECT EXISTS (SELECT {LHS_string}, {RHS_string_1} FROM (SELECT DISTINCT {LHS_string}, {RHS_string_2} FROM {table}) AS SQ GROUP BY {LHS_string} HAVING {RHS_string_3});'\n",
    "    return query_string\n",
    "\n",
    "\n",
    "def find_fds_with_pruning (LHS, RHS, cur, conn, table=TABLE) :\n",
    "    prune = False\n",
    "    if type(RHS) == list:\n",
    "        RHS = RHS[0]\n",
    "    if RHS in VALID_FDS.keys():\n",
    "        for lhs in LHS:\n",
    "            if lhs in VALID_FDS[RHS]:\n",
    "                prune = True\n",
    "                print(f'{LHS} -> {RHS} PRUNNED because FD {lhs}->{RHS} exists')\n",
    "    \n",
    "    if (not prune): \n",
    "        start_time = time.time()\n",
    "        cur.execute(create_query_string(LHS=LHS, RHS=RHS, table=table))\n",
    "        conn.commit()\n",
    "        duration = round(time.time() - start_time,3)\n",
    "        result = cur.fetchall()\n",
    "        if (result[0][0]):\n",
    "            print(f\"Functional Dependency ABSENT in : {LHS} -> {RHS}, Duration: {duration}\")\n",
    "        else:\n",
    "            print(f\"Functional Dependency PRESENT in : {LHS} -> {RHS}, Duration: {duration}\")\n",
    "            if RHS not in VALID_FDS.keys():\n",
    "                VALID_FDS[RHS] = set()\n",
    "            for lhs in LHS:\n",
    "                    VALID_FDS[RHS].add(lhs)"
   ]
  },
  {
   "cell_type": "markdown",
   "metadata": {},
   "source": [
    "### PSQL"
   ]
  },
  {
   "cell_type": "markdown",
   "metadata": {},
   "source": [
    "#### Connection"
   ]
  },
  {
   "cell_type": "code",
   "execution_count": 25,
   "metadata": {},
   "outputs": [
    {
     "name": "stdout",
     "output_type": "stream",
     "text": [
      "Database connected successfully\n"
     ]
    },
    {
     "name": "stderr",
     "output_type": "stream",
     "text": [
      "WARNING: password file \"/Users/rohaan/.pgpass\" has group or world access; permissions should be u=rw (0600) or less\n"
     ]
    }
   ],
   "source": [
    "conn = psycopg2.connect(\"dbname=csci_620_ass_2\")\n",
    "print(\"Database connected successfully\")\n",
    "cur = conn.cursor()\n",
    "conn.commit()"
   ]
  },
  {
   "cell_type": "markdown",
   "metadata": {},
   "source": [
    "#### Get Attributes"
   ]
  },
  {
   "cell_type": "code",
   "execution_count": 26,
   "metadata": {},
   "outputs": [],
   "source": [
    "cur.execute(f\"Select * FROM {TABLE} LIMIT 0\")\n",
    "attributes = [desc[0] for desc in cur.description]"
   ]
  },
  {
   "attachments": {},
   "cell_type": "markdown",
   "metadata": {},
   "source": [
    "### testing method"
   ]
  },
  {
   "cell_type": "code",
   "execution_count": 28,
   "metadata": {},
   "outputs": [
    {
     "name": "stdout",
     "output_type": "stream",
     "text": [
      "Functional Dependency PRESENT in : ['genreId'] -> genre, Duration: 1.62\n",
      "Functional Dependency ABSENT in : ['movieId'] -> genre, Duration: 7.857\n",
      "['genreId', 'movieId'] -> genre PRUNNED because FD genreId->genre exists\n"
     ]
    }
   ],
   "source": [
    "find_fds_with_pruning (LHS=['genreId'], RHS=['genre'], cur=cur, conn=conn)\n",
    "find_fds_with_pruning (LHS=['movieId'], RHS=['genre'], cur=cur, conn=conn)\n",
    "find_fds_with_pruning (LHS=['genreId', 'movieId'], RHS=['genre'], cur=cur, conn=conn)"
   ]
  },
  {
   "attachments": {},
   "cell_type": "markdown",
   "metadata": {},
   "source": [
    "### All with max 2 LHS"
   ]
  },
  {
   "cell_type": "code",
   "execution_count": 29,
   "metadata": {},
   "outputs": [
    {
     "name": "stdout",
     "output_type": "stream",
     "text": [
      "Functional Dependency ABSENT in : ['type'] -> movieid, Duration: 3.707\n",
      "Functional Dependency ABSENT in : ['startyear'] -> movieid, Duration: 3.031\n",
      "Functional Dependency ABSENT in : ['runtime'] -> movieid, Duration: 2.751\n",
      "Functional Dependency ABSENT in : ['avgrating'] -> movieid, Duration: 4.202\n",
      "Functional Dependency ABSENT in : ['genreid'] -> movieid, Duration: 4.645\n",
      "Functional Dependency ABSENT in : ['genre'] -> movieid, Duration: 4.156\n",
      "Functional Dependency ABSENT in : ['memberid'] -> movieid, Duration: 5.117\n",
      "Functional Dependency ABSENT in : ['birthyear'] -> movieid, Duration: 2.428\n",
      "Functional Dependency ABSENT in : ['character'] -> movieid, Duration: 6.451\n",
      "Functional Dependency ABSENT in : ['startyear'] -> type, Duration: 0.658\n",
      "Functional Dependency ABSENT in : ['runtime'] -> type, Duration: 0.696\n",
      "Functional Dependency ABSENT in : ['avgrating'] -> type, Duration: 0.979\n",
      "Functional Dependency ABSENT in : ['genreid'] -> type, Duration: 0.636\n",
      "Functional Dependency ABSENT in : ['genre'] -> type, Duration: 0.662\n",
      "Functional Dependency ABSENT in : ['memberid'] -> type, Duration: 2.582\n",
      "Functional Dependency ABSENT in : ['birthyear'] -> type, Duration: 0.62\n",
      "Functional Dependency ABSENT in : ['character'] -> type, Duration: 2.826\n",
      "Functional Dependency ABSENT in : ['runtime'] -> startyear, Duration: 0.856\n",
      "Functional Dependency ABSENT in : ['avgrating'] -> startyear, Duration: 0.824\n",
      "Functional Dependency ABSENT in : ['genreid'] -> startyear, Duration: 0.438\n",
      "Functional Dependency ABSENT in : ['genre'] -> startyear, Duration: 0.6\n",
      "Functional Dependency ABSENT in : ['memberid'] -> startyear, Duration: 3.0\n",
      "Functional Dependency ABSENT in : ['birthyear'] -> startyear, Duration: 0.721\n",
      "Functional Dependency ABSENT in : ['character'] -> startyear, Duration: 5.988\n",
      "Functional Dependency ABSENT in : ['avgrating'] -> runtime, Duration: 0.96\n",
      "Functional Dependency ABSENT in : ['genreid'] -> runtime, Duration: 0.515\n",
      "Functional Dependency ABSENT in : ['genre'] -> runtime, Duration: 0.745\n",
      "Functional Dependency ABSENT in : ['memberid'] -> runtime, Duration: 3.985\n",
      "Functional Dependency ABSENT in : ['birthyear'] -> runtime, Duration: 0.842\n",
      "Functional Dependency ABSENT in : ['character'] -> runtime, Duration: 4.404\n",
      "Functional Dependency ABSENT in : ['genreid'] -> avgrating, Duration: 1.463\n",
      "Functional Dependency ABSENT in : ['genre'] -> avgrating, Duration: 1.862\n",
      "Functional Dependency ABSENT in : ['memberid'] -> avgrating, Duration: 8.043\n",
      "Functional Dependency ABSENT in : ['birthyear'] -> avgrating, Duration: 1.004\n",
      "Functional Dependency ABSENT in : ['character'] -> avgrating, Duration: 4.074\n",
      "Functional Dependency PRESENT in : ['genre'] -> genreid, Duration: 0.461\n",
      "Functional Dependency ABSENT in : ['memberid'] -> genreid, Duration: 3.409\n",
      "Functional Dependency ABSENT in : ['birthyear'] -> genreid, Duration: 0.337\n",
      "Functional Dependency ABSENT in : ['character'] -> genreid, Duration: 4.45\n",
      "Functional Dependency ABSENT in : ['memberid'] -> genre, Duration: 4.651\n",
      "Functional Dependency ABSENT in : ['birthyear'] -> genre, Duration: 0.512\n",
      "Functional Dependency ABSENT in : ['character'] -> genre, Duration: 3.814\n",
      "Functional Dependency ABSENT in : ['birthyear'] -> memberid, Duration: 2.229\n",
      "Functional Dependency ABSENT in : ['character'] -> memberid, Duration: 4.331\n",
      "Functional Dependency PRESENT in : ['character'] -> birthyear, Duration: 2.653\n",
      "Functional Dependency ABSENT in : ['type', 'startyear'] -> movieid, Duration: 1.703\n",
      "Functional Dependency ABSENT in : ['type', 'runtime'] -> movieid, Duration: 2.173\n",
      "Functional Dependency ABSENT in : ['type', 'avgrating'] -> movieid, Duration: 2.432\n",
      "Functional Dependency ABSENT in : ['type', 'genreid'] -> movieid, Duration: 1.991\n",
      "Functional Dependency ABSENT in : ['type', 'genre'] -> movieid, Duration: 2.803\n",
      "Functional Dependency ABSENT in : ['type', 'memberid'] -> movieid, Duration: 7.025\n",
      "Functional Dependency ABSENT in : ['type', 'birthyear'] -> movieid, Duration: 3.337\n",
      "Functional Dependency ABSENT in : ['type', 'character'] -> movieid, Duration: 6.912\n",
      "Functional Dependency ABSENT in : ['startyear', 'runtime'] -> movieid, Duration: 2.74\n",
      "Functional Dependency ABSENT in : ['startyear', 'avgrating'] -> movieid, Duration: 1.588\n",
      "Functional Dependency ABSENT in : ['startyear', 'genreid'] -> movieid, Duration: 2.956\n"
     ]
    }
   ],
   "source": [
    "start_time = time.time()\n",
    "for RHS_n_LHS_quantity in range(2, 4):\n",
    "    for subset in itertools.combinations(attributes, RHS_n_LHS_quantity):\n",
    "        RHS_LHS = list(subset)\n",
    "        RHS = RHS_LHS[0]\n",
    "        LHS = RHS_LHS[1:]\n",
    "        # print(f\"Investigating: {LHS} -> {RHS}\")\n",
    "        find_fds_with_pruning(LHS=LHS, RHS=RHS, cur=cur, conn=conn)\n",
    "        # find_fds(LHS=LHS, RHS=RHS, cur=cur, conn=conn)\n",
    "\n",
    "print(f'Time the operation took: {round(time.time()-start_time,2)}')"
   ]
  }
 ],
 "metadata": {
  "kernelspec": {
   "display_name": "Python 3",
   "language": "python",
   "name": "python3"
  },
  "language_info": {
   "codemirror_mode": {
    "name": "ipython",
    "version": 3
   },
   "file_extension": ".py",
   "mimetype": "text/x-python",
   "name": "python",
   "nbconvert_exporter": "python",
   "pygments_lexer": "ipython3",
   "version": "3.9.6"
  },
  "orig_nbformat": 4
 },
 "nbformat": 4,
 "nbformat_minor": 2
}
