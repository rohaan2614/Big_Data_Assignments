{
 "cells": [
  {
   "attachments": {},
   "cell_type": "markdown",
   "metadata": {},
   "source": [
    "This notebook was used during development to incrementally test the program for task 2"
   ]
  },
  {
   "attachments": {},
   "cell_type": "markdown",
   "metadata": {},
   "source": [
    "### Library"
   ]
  },
  {
   "cell_type": "code",
   "execution_count": 1,
   "metadata": {},
   "outputs": [],
   "source": [
    "import psycopg2\n",
    "import time\n",
    "import itertools"
   ]
  },
  {
   "attachments": {},
   "cell_type": "markdown",
   "metadata": {},
   "source": [
    "### Constants"
   ]
  },
  {
   "cell_type": "code",
   "execution_count": 2,
   "metadata": {},
   "outputs": [],
   "source": [
    "TABLE = 'task_1'"
   ]
  },
  {
   "attachments": {},
   "cell_type": "markdown",
   "metadata": {},
   "source": [
    "### Helper Methods"
   ]
  },
  {
   "cell_type": "code",
   "execution_count": 3,
   "metadata": {},
   "outputs": [],
   "source": [
    "def create_query_string(LHS=[], RHS=[], table=TABLE):\n",
    "    \"creates a the query that will return whether RHS has a functional dependency on LHS.\"\n",
    "    if type(LHS) == str : \n",
    "        LHS = [LHS]\n",
    "    if type(RHS) == str : \n",
    "        RHS = [RHS]\n",
    "    \n",
    "    \n",
    "    LHS_string = ''\n",
    "    for lhs in LHS:\n",
    "        LHS_string += lhs + ', '\n",
    "    LHS_string = LHS_string[:-2]\n",
    "\n",
    "    RHS_string_1 = ''\n",
    "    RHS_string_2 = ''\n",
    "    RHS_string_3 = ''\n",
    "    for rhs in RHS:\n",
    "        RHS_string_1 += f'COUNT({rhs}), '\n",
    "        RHS_string_2 += rhs + ', '\n",
    "        RHS_string_3 += f'COUNT({rhs}) > 1 AND '\n",
    "    \n",
    "    RHS_string_1 = RHS_string_1[:-2]\n",
    "    RHS_string_2 = RHS_string_2[:-2]\n",
    "    RHS_string_3 = RHS_string_3[:-5]\n",
    "\n",
    "    query_string = f'SELECT EXISTS (SELECT {LHS_string}, {RHS_string_1} FROM (SELECT DISTINCT {LHS_string}, {RHS_string_2} FROM {table}) AS SQ GROUP BY {LHS_string} HAVING {RHS_string_3});'\n",
    "    # print(\"Query: \", query_string)\n",
    "    return query_string\n",
    "\n",
    "\n",
    "def find_fds (LHS, RHS, cur, conn, table=TABLE) :\n",
    "    start_time = time.time()\n",
    "    cur.execute(create_query_string(LHS=LHS, RHS=RHS, table=table))\n",
    "    conn.commit()\n",
    "    duration = round(time.time() - start_time,3)\n",
    "    # result = cur.fetchall()[0][0]\n",
    "    result = cur.fetchall()\n",
    "    # print(f\"RESULT: {result}\")\n",
    "    if (result[0][0]):\n",
    "        print(f\"Functional Dependency ABSENT in : {LHS} -> {RHS}, Duration: {duration}\")\n",
    "    else:\n",
    "        print(f\"Functional Dependency PRESENT in : {LHS} -> {RHS}, Duration: {duration}\")"
   ]
  },
  {
   "attachments": {},
   "cell_type": "markdown",
   "metadata": {},
   "source": [
    "### PSQL"
   ]
  },
  {
   "attachments": {},
   "cell_type": "markdown",
   "metadata": {},
   "source": [
    "#### Connection"
   ]
  },
  {
   "cell_type": "code",
   "execution_count": 4,
   "metadata": {},
   "outputs": [
    {
     "name": "stdout",
     "output_type": "stream",
     "text": [
      "Database connected successfully\n"
     ]
    },
    {
     "name": "stderr",
     "output_type": "stream",
     "text": [
      "WARNING: password file \"/Users/rohaan/.pgpass\" has group or world access; permissions should be u=rw (0600) or less\n"
     ]
    }
   ],
   "source": [
    "conn = psycopg2.connect(\"dbname=csci_620_ass_2\")\n",
    "print(\"Database connected successfully\")\n",
    "cur = conn.cursor()\n",
    "conn.commit()"
   ]
  },
  {
   "attachments": {},
   "cell_type": "markdown",
   "metadata": {},
   "source": [
    "#### Get Attributes"
   ]
  },
  {
   "cell_type": "code",
   "execution_count": 5,
   "metadata": {},
   "outputs": [],
   "source": [
    "cur.execute(f\"Select * FROM {TABLE} LIMIT 0\")\n",
    "attributes = [desc[0] for desc in cur.description]"
   ]
  },
  {
   "attachments": {},
   "cell_type": "markdown",
   "metadata": {},
   "source": [
    "### All possible combinations"
   ]
  },
  {
   "cell_type": "code",
   "execution_count": 6,
   "metadata": {},
   "outputs": [
    {
     "name": "stdout",
     "output_type": "stream",
     "text": [
      "Investigating: ['type'] -> movieid\n",
      "Functional Dependency ABSENT in : ['type'] -> movieid, Duration: 2.775\n",
      "Investigating: ['startyear'] -> movieid\n",
      "Functional Dependency ABSENT in : ['startyear'] -> movieid, Duration: 2.539\n",
      "Investigating: ['runtime'] -> movieid\n",
      "Functional Dependency ABSENT in : ['runtime'] -> movieid, Duration: 2.717\n",
      "Investigating: ['avgrating'] -> movieid\n",
      "Functional Dependency ABSENT in : ['avgrating'] -> movieid, Duration: 3.983\n",
      "Investigating: ['genreid'] -> movieid\n",
      "Functional Dependency ABSENT in : ['genreid'] -> movieid, Duration: 3.869\n",
      "Investigating: ['genre'] -> movieid\n",
      "Functional Dependency ABSENT in : ['genre'] -> movieid, Duration: 5.538\n",
      "Investigating: ['memberid'] -> movieid\n",
      "Functional Dependency ABSENT in : ['memberid'] -> movieid, Duration: 5.989\n",
      "Investigating: ['birthyear'] -> movieid\n",
      "Functional Dependency ABSENT in : ['birthyear'] -> movieid, Duration: 3.053\n",
      "Investigating: ['character'] -> movieid\n",
      "Functional Dependency ABSENT in : ['character'] -> movieid, Duration: 5.045\n",
      "Investigating: ['startyear'] -> type\n",
      "Functional Dependency ABSENT in : ['startyear'] -> type, Duration: 0.769\n",
      "Investigating: ['runtime'] -> type\n",
      "Functional Dependency ABSENT in : ['runtime'] -> type, Duration: 0.634\n",
      "Investigating: ['avgrating'] -> type\n",
      "Functional Dependency ABSENT in : ['avgrating'] -> type, Duration: 1.105\n",
      "Investigating: ['genreid'] -> type\n",
      "Functional Dependency ABSENT in : ['genreid'] -> type, Duration: 0.637\n",
      "Investigating: ['genre'] -> type\n",
      "Functional Dependency ABSENT in : ['genre'] -> type, Duration: 0.757\n",
      "Investigating: ['memberid'] -> type\n",
      "Functional Dependency ABSENT in : ['memberid'] -> type, Duration: 2.523\n",
      "Investigating: ['birthyear'] -> type\n",
      "Functional Dependency ABSENT in : ['birthyear'] -> type, Duration: 0.584\n",
      "Investigating: ['character'] -> type\n",
      "Functional Dependency ABSENT in : ['character'] -> type, Duration: 3.695\n",
      "Investigating: ['runtime'] -> startyear\n",
      "Functional Dependency ABSENT in : ['runtime'] -> startyear, Duration: 1.006\n",
      "Investigating: ['avgrating'] -> startyear\n",
      "Functional Dependency ABSENT in : ['avgrating'] -> startyear, Duration: 1.147\n",
      "Investigating: ['genreid'] -> startyear\n",
      "Functional Dependency ABSENT in : ['genreid'] -> startyear, Duration: 0.703\n",
      "Investigating: ['genre'] -> startyear\n",
      "Functional Dependency ABSENT in : ['genre'] -> startyear, Duration: 0.785\n",
      "Investigating: ['memberid'] -> startyear\n",
      "Functional Dependency ABSENT in : ['memberid'] -> startyear, Duration: 3.675\n",
      "Investigating: ['birthyear'] -> startyear\n",
      "Functional Dependency ABSENT in : ['birthyear'] -> startyear, Duration: 0.672\n",
      "Investigating: ['character'] -> startyear\n",
      "Functional Dependency ABSENT in : ['character'] -> startyear, Duration: 4.078\n",
      "Investigating: ['avgrating'] -> runtime\n",
      "Functional Dependency ABSENT in : ['avgrating'] -> runtime, Duration: 0.929\n",
      "Investigating: ['genreid'] -> runtime\n",
      "Functional Dependency ABSENT in : ['genreid'] -> runtime, Duration: 0.657\n",
      "Investigating: ['genre'] -> runtime\n",
      "Functional Dependency ABSENT in : ['genre'] -> runtime, Duration: 0.691\n",
      "Investigating: ['memberid'] -> runtime\n",
      "Functional Dependency ABSENT in : ['memberid'] -> runtime, Duration: 3.973\n",
      "Investigating: ['birthyear'] -> runtime\n",
      "Functional Dependency ABSENT in : ['birthyear'] -> runtime, Duration: 0.878\n",
      "Investigating: ['character'] -> runtime\n",
      "Functional Dependency ABSENT in : ['character'] -> runtime, Duration: 4.147\n",
      "Investigating: ['genreid'] -> avgrating\n",
      "Functional Dependency ABSENT in : ['genreid'] -> avgrating, Duration: 1.199\n",
      "Investigating: ['genre'] -> avgrating\n",
      "Functional Dependency ABSENT in : ['genre'] -> avgrating, Duration: 1.163\n",
      "Investigating: ['memberid'] -> avgrating\n",
      "Functional Dependency ABSENT in : ['memberid'] -> avgrating, Duration: 7.843\n",
      "Investigating: ['birthyear'] -> avgrating\n",
      "Functional Dependency ABSENT in : ['birthyear'] -> avgrating, Duration: 2.009\n",
      "Investigating: ['character'] -> avgrating\n",
      "Functional Dependency ABSENT in : ['character'] -> avgrating, Duration: 5.952\n",
      "Investigating: ['genre'] -> genreid\n",
      "Functional Dependency PRESENT in : ['genre'] -> genreid, Duration: 0.857\n",
      "Investigating: ['memberid'] -> genreid\n",
      "Functional Dependency ABSENT in : ['memberid'] -> genreid, Duration: 7.08\n",
      "Investigating: ['birthyear'] -> genreid\n",
      "Functional Dependency ABSENT in : ['birthyear'] -> genreid, Duration: 0.962\n",
      "Investigating: ['character'] -> genreid\n",
      "Functional Dependency ABSENT in : ['character'] -> genreid, Duration: 6.183\n",
      "Investigating: ['memberid'] -> genre\n",
      "Functional Dependency ABSENT in : ['memberid'] -> genre, Duration: 4.394\n",
      "Investigating: ['birthyear'] -> genre\n",
      "Functional Dependency ABSENT in : ['birthyear'] -> genre, Duration: 0.461\n",
      "Investigating: ['character'] -> genre\n",
      "Functional Dependency ABSENT in : ['character'] -> genre, Duration: 3.549\n",
      "Investigating: ['birthyear'] -> memberid\n",
      "Functional Dependency ABSENT in : ['birthyear'] -> memberid, Duration: 1.466\n",
      "Investigating: ['character'] -> memberid\n",
      "Functional Dependency ABSENT in : ['character'] -> memberid, Duration: 2.539\n",
      "Investigating: ['character'] -> birthyear\n",
      "Functional Dependency PRESENT in : ['character'] -> birthyear, Duration: 1.37\n",
      "Investigating: ['type', 'startyear'] -> movieid\n",
      "Functional Dependency ABSENT in : ['type', 'startyear'] -> movieid, Duration: 0.549\n",
      "Investigating: ['type', 'runtime'] -> movieid\n",
      "Functional Dependency ABSENT in : ['type', 'runtime'] -> movieid, Duration: 0.674\n",
      "Investigating: ['type', 'avgrating'] -> movieid\n",
      "Functional Dependency ABSENT in : ['type', 'avgrating'] -> movieid, Duration: 1.555\n",
      "Investigating: ['type', 'genreid'] -> movieid\n",
      "Functional Dependency ABSENT in : ['type', 'genreid'] -> movieid, Duration: 1.814\n",
      "Investigating: ['type', 'genre'] -> movieid\n",
      "Functional Dependency ABSENT in : ['type', 'genre'] -> movieid, Duration: 1.884\n",
      "Investigating: ['type', 'memberid'] -> movieid\n"
     ]
    }
   ],
   "source": [
    "for RHS_n_LHS_quantity in range(2, len(attributes) + 1):\n",
    "    for subset in itertools.combinations(attributes, RHS_n_LHS_quantity):\n",
    "        RHS_LHS = list(subset)\n",
    "        RHS = RHS_LHS[0]\n",
    "        LHS = RHS_LHS[1:]\n",
    "        # print(f\"Investigating: {LHS} -> {RHS}\")\n",
    "        find_fds(LHS=LHS, RHS=RHS, cur=cur, conn=conn)"
   ]
  }
 ],
 "metadata": {
  "kernelspec": {
   "display_name": "Python 3",
   "language": "python",
   "name": "python3"
  },
  "language_info": {
   "codemirror_mode": {
    "name": "ipython",
    "version": 3
   },
   "file_extension": ".py",
   "mimetype": "text/x-python",
   "name": "python",
   "nbconvert_exporter": "python",
   "pygments_lexer": "ipython3",
   "version": "3.9.6"
  },
  "orig_nbformat": 4
 },
 "nbformat": 4,
 "nbformat_minor": 2
}
