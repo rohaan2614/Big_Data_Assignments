{
 "cells": [
  {
   "cell_type": "code",
   "execution_count": 10,
   "metadata": {},
   "outputs": [],
   "source": [
    "from pyspark.sql import SparkSession"
   ]
  },
  {
   "cell_type": "code",
   "execution_count": 11,
   "metadata": {},
   "outputs": [],
   "source": [
    "spark = SparkSession.builder.getOrCreate()"
   ]
  },
  {
   "attachments": {},
   "cell_type": "markdown",
   "metadata": {},
   "source": [
    "# DataFrames"
   ]
  },
  {
   "cell_type": "code",
   "execution_count": 12,
   "metadata": {},
   "outputs": [
    {
     "name": "stdout",
     "output_type": "stream",
     "text": [
      "+---------+--------+---------+---------------+--------------------+--------------+\n",
      "|   tconst|ordering|   nconst|       category|                 job|    characters|\n",
      "+---------+--------+---------+---------------+--------------------+--------------+\n",
      "|tt0000001|       1|nm1588970|           self|                  \\N|      [\"Self\"]|\n",
      "|tt0000001|       2|nm0005690|       director|                  \\N|            \\N|\n",
      "|tt0000001|       3|nm0374658|cinematographer|director of photo...|            \\N|\n",
      "|tt0000002|       1|nm0721526|       director|                  \\N|            \\N|\n",
      "|tt0000002|       2|nm1335271|       composer|                  \\N|            \\N|\n",
      "|tt0000003|       1|nm0721526|       director|                  \\N|            \\N|\n",
      "|tt0000003|       2|nm1770680|       producer|            producer|            \\N|\n",
      "|tt0000003|       3|nm1335271|       composer|                  \\N|            \\N|\n",
      "|tt0000003|       4|nm5442200|         editor|                  \\N|            \\N|\n",
      "|tt0000004|       1|nm0721526|       director|                  \\N|            \\N|\n",
      "|tt0000004|       2|nm1335271|       composer|                  \\N|            \\N|\n",
      "|tt0000005|       1|nm0443482|          actor|                  \\N|[\"Blacksmith\"]|\n",
      "|tt0000005|       2|nm0653042|          actor|                  \\N| [\"Assistant\"]|\n",
      "|tt0000005|       3|nm0005690|       director|                  \\N|            \\N|\n",
      "|tt0000005|       4|nm0249379|       producer|            producer|            \\N|\n",
      "|tt0000006|       1|nm0005690|       director|                  \\N|            \\N|\n",
      "|tt0000007|       1|nm0179163|          actor|                  \\N|            \\N|\n",
      "|tt0000007|       2|nm0183947|          actor|                  \\N|            \\N|\n",
      "|tt0000007|       3|nm0005690|       director|                  \\N|            \\N|\n",
      "|tt0000007|       4|nm0374658|       director|                  \\N|            \\N|\n",
      "+---------+--------+---------+---------------+--------------------+--------------+\n",
      "only showing top 20 rows\n",
      "\n"
     ]
    }
   ],
   "source": [
    "df_principals = spark.read.csv('data/principals.tsv', sep=r'\\t', header=True)\n",
    "df_principals.show()"
   ]
  },
  {
   "cell_type": "code",
   "execution_count": 13,
   "metadata": {},
   "outputs": [
    {
     "name": "stdout",
     "output_type": "stream",
     "text": [
      "+---------+---------+--------------------+--------------------+-------+---------+-------+--------------+--------------------+\n",
      "|   tconst|titleType|        primaryTitle|       originalTitle|isAdult|startYear|endYear|runtimeMinutes|              genres|\n",
      "+---------+---------+--------------------+--------------------+-------+---------+-------+--------------+--------------------+\n",
      "|tt0000001|    short|          Carmencita|          Carmencita|      0|     1894|     \\N|             1|   Documentary,Short|\n",
      "|tt0000002|    short|Le clown et ses c...|Le clown et ses c...|      0|     1892|     \\N|             5|     Animation,Short|\n",
      "|tt0000003|    short|      Pauvre Pierrot|      Pauvre Pierrot|      0|     1892|     \\N|             4|Animation,Comedy,...|\n",
      "|tt0000004|    short|         Un bon bock|         Un bon bock|      0|     1892|     \\N|            12|     Animation,Short|\n",
      "|tt0000005|    short|    Blacksmith Scene|    Blacksmith Scene|      0|     1893|     \\N|             1|        Comedy,Short|\n",
      "|tt0000006|    short|   Chinese Opium Den|   Chinese Opium Den|      0|     1894|     \\N|             1|               Short|\n",
      "|tt0000007|    short|Corbett and Court...|Corbett and Court...|      0|     1894|     \\N|             1|         Short,Sport|\n",
      "|tt0000008|    short|Edison Kinetoscop...|Edison Kinetoscop...|      0|     1894|     \\N|             1|   Documentary,Short|\n",
      "|tt0000009|    movie|          Miss Jerry|          Miss Jerry|      0|     1894|     \\N|            45|             Romance|\n",
      "|tt0000010|    short| Leaving the Factory|La sortie de l'us...|      0|     1895|     \\N|             1|   Documentary,Short|\n",
      "|tt0000011|    short|Akrobatisches Pot...|Akrobatisches Pot...|      0|     1895|     \\N|             1|   Documentary,Short|\n",
      "|tt0000012|    short|The Arrival of a ...|L'arrivée d'un tr...|      0|     1896|     \\N|             1|   Documentary,Short|\n",
      "|tt0000013|    short|The Photographica...|Le débarquement d...|      0|     1895|     \\N|             1|   Documentary,Short|\n",
      "|tt0000014|    short| The Waterer Watered|   L'arroseur arrosé|      0|     1895|     \\N|             1|        Comedy,Short|\n",
      "|tt0000015|    short| Autour d'une cabine| Autour d'une cabine|      0|     1894|     \\N|             2|     Animation,Short|\n",
      "|tt0000016|    short|Boat Leaving the ...|Barque sortant du...|      0|     1895|     \\N|             1|   Documentary,Short|\n",
      "|tt0000017|    short|Italienischer Bau...|Italienischer Bau...|      0|     1895|     \\N|             1|   Documentary,Short|\n",
      "|tt0000018|    short|Das boxende Känguruh|Das boxende Känguruh|      0|     1895|     \\N|             1|               Short|\n",
      "|tt0000019|    short|    The Clown Barber|    The Clown Barber|      0|     1898|     \\N|            \\N|        Comedy,Short|\n",
      "|tt0000020|    short|      The Derby 1895|      The Derby 1895|      0|     1895|     \\N|             1|Documentary,Short...|\n",
      "+---------+---------+--------------------+--------------------+-------+---------+-------+--------------+--------------------+\n",
      "only showing top 20 rows\n",
      "\n"
     ]
    }
   ],
   "source": [
    "df_basics = spark.read.csv('data/basics.tsv', sep=r'\\t', header=True)\n",
    "df_basics.show()"
   ]
  },
  {
   "cell_type": "code",
   "execution_count": 14,
   "metadata": {},
   "outputs": [
    {
     "name": "stdout",
     "output_type": "stream",
     "text": [
      "+---------+-------------------+---------+\n",
      "|   tconst|          directors|  writers|\n",
      "+---------+-------------------+---------+\n",
      "|tt0000001|          nm0005690|       \\N|\n",
      "|tt0000002|          nm0721526|       \\N|\n",
      "|tt0000003|          nm0721526|       \\N|\n",
      "|tt0000004|          nm0721526|       \\N|\n",
      "|tt0000005|          nm0005690|       \\N|\n",
      "|tt0000006|          nm0005690|       \\N|\n",
      "|tt0000007|nm0005690,nm0374658|       \\N|\n",
      "|tt0000008|          nm0005690|       \\N|\n",
      "|tt0000009|          nm0085156|nm0085156|\n",
      "|tt0000010|          nm0525910|       \\N|\n",
      "|tt0000011|          nm0804434|       \\N|\n",
      "|tt0000012|nm0525910,nm0525908|       \\N|\n",
      "|tt0000013|          nm0525910|       \\N|\n",
      "|tt0000014|          nm0525910|       \\N|\n",
      "|tt0000015|          nm0721526|       \\N|\n",
      "|tt0000016|          nm0525910|       \\N|\n",
      "|tt0000017|nm1587194,nm0804434|       \\N|\n",
      "|tt0000018|          nm0804434|       \\N|\n",
      "|tt0000019|          nm0932055|       \\N|\n",
      "|tt0000020|          nm0010291|       \\N|\n",
      "+---------+-------------------+---------+\n",
      "only showing top 20 rows\n",
      "\n"
     ]
    }
   ],
   "source": [
    "df_crew = spark.read.csv('data/crew.tsv', sep=r'\\t', header=True)\n",
    "df_crew.show()"
   ]
  },
  {
   "cell_type": "code",
   "execution_count": 15,
   "metadata": {},
   "outputs": [
    {
     "name": "stdout",
     "output_type": "stream",
     "text": [
      "+---------+------------+------------+-------------+\n",
      "|   tconst|parentTconst|seasonNumber|episodeNumber|\n",
      "+---------+------------+------------+-------------+\n",
      "|tt0041951|   tt0041038|           1|            9|\n",
      "|tt0042816|   tt0989125|           1|           17|\n",
      "|tt0042889|   tt0989125|          \\N|           \\N|\n",
      "|tt0043426|   tt0040051|           3|           42|\n",
      "|tt0043631|   tt0989125|           2|           16|\n",
      "|tt0043693|   tt0989125|           2|            8|\n",
      "|tt0043710|   tt0989125|           3|            3|\n",
      "|tt0044093|   tt0959862|           1|            6|\n",
      "|tt0044668|   tt0044243|           2|           16|\n",
      "|tt0044901|   tt0989125|           3|           46|\n",
      "|tt0045519|   tt0989125|           4|           11|\n",
      "|tt0045960|   tt0044284|           2|            3|\n",
      "|tt0046135|   tt0989125|           4|            5|\n",
      "|tt0046150|   tt0341798|          \\N|           \\N|\n",
      "|tt0046855|   tt0046643|           1|            4|\n",
      "|tt0046864|   tt0989125|           5|           20|\n",
      "|tt0047810|   tt0914702|           3|           36|\n",
      "|tt0047852|   tt0047745|           1|           15|\n",
      "|tt0047858|   tt0046637|           2|            9|\n",
      "|tt0047961|   tt0989125|           6|            5|\n",
      "+---------+------------+------------+-------------+\n",
      "only showing top 20 rows\n",
      "\n"
     ]
    }
   ],
   "source": [
    "df_episodes = spark.read.csv('data/episodes.tsv', sep=r'\\t', header=True)\n",
    "df_episodes.show()"
   ]
  },
  {
   "cell_type": "code",
   "execution_count": 16,
   "metadata": {},
   "outputs": [
    {
     "name": "stdout",
     "output_type": "stream",
     "text": [
      "+---------+-------------------+---------+---------+--------------------+--------------------+\n",
      "|   nconst|        primaryName|birthYear|deathYear|   primaryProfession|      knownForTitles|\n",
      "+---------+-------------------+---------+---------+--------------------+--------------------+\n",
      "|nm0000001|       Fred Astaire|     1899|     1987|soundtrack,actor,...|tt0053137,tt00723...|\n",
      "|nm0000002|      Lauren Bacall|     1924|     2014|  actress,soundtrack|tt0038355,tt00718...|\n",
      "|nm0000003|    Brigitte Bardot|     1934|       \\N|actress,soundtrac...|tt0057345,tt00564...|\n",
      "|nm0000004|       John Belushi|     1949|     1982|actor,soundtrack,...|tt0072562,tt00779...|\n",
      "|nm0000005|     Ingmar Bergman|     1918|     2007|writer,director,a...|tt0060827,tt00509...|\n",
      "|nm0000006|     Ingrid Bergman|     1915|     1982|actress,soundtrac...|tt0038109,tt00387...|\n",
      "|nm0000007|    Humphrey Bogart|     1899|     1957|actor,soundtrack,...|tt0042593,tt00373...|\n",
      "|nm0000008|      Marlon Brando|     1924|     2004|actor,soundtrack,...|tt0047296,tt00708...|\n",
      "|nm0000009|     Richard Burton|     1925|     1984|actor,soundtrack,...|tt0057877,tt00878...|\n",
      "|nm0000010|       James Cagney|     1899|     1986|actor,soundtrack,...|tt0042041,tt00355...|\n",
      "|nm0000011|        Gary Cooper|     1901|     1961|actor,soundtrack,...|tt0035896,tt00447...|\n",
      "|nm0000012|        Bette Davis|     1908|     1989|actress,soundtrac...|tt0035140,tt00566...|\n",
      "|nm0000013|          Doris Day|     1922|     2019|soundtrack,actres...|tt0045591,tt00494...|\n",
      "|nm0000014|Olivia de Havilland|     1916|     2020|  actress,soundtrack|tt0031381,tt00414...|\n",
      "|nm0000015|         James Dean|     1931|     1955| actor,miscellaneous|tt0039123,tt00492...|\n",
      "|nm0000016|    Georges Delerue|     1925|     1992|composer,soundtra...|tt0091763,tt00699...|\n",
      "|nm0000017|   Marlene Dietrich|     1901|     1992|soundtrack,actres...|tt0055031,tt00211...|\n",
      "|nm0000018|       Kirk Douglas|     1916|     2020|actor,producer,so...|tt0054331,tt00433...|\n",
      "|nm0000019|   Federico Fellini|     1920|     1993|writer,director,a...|tt0050783,tt00537...|\n",
      "|nm0000020|        Henry Fonda|     1905|     1982|actor,producer,so...|tt0032551,tt00500...|\n",
      "+---------+-------------------+---------+---------+--------------------+--------------------+\n",
      "only showing top 20 rows\n",
      "\n"
     ]
    }
   ],
   "source": [
    "df_name_basics = spark.read.csv('data/nameBasics.tsv', sep=r'\\t', header=True)\n",
    "df_name_basics.show()"
   ]
  },
  {
   "cell_type": "code",
   "execution_count": 17,
   "metadata": {},
   "outputs": [
    {
     "name": "stdout",
     "output_type": "stream",
     "text": [
      "+---------+-------------+--------+\n",
      "|   tconst|averageRating|numVotes|\n",
      "+---------+-------------+--------+\n",
      "|tt0000001|          5.7|    1948|\n",
      "|tt0000002|          5.8|     264|\n",
      "|tt0000003|          6.5|    1778|\n",
      "|tt0000004|          5.6|     179|\n",
      "|tt0000005|          6.2|    2582|\n",
      "|tt0000006|          5.1|     177|\n",
      "|tt0000007|          5.4|     810|\n",
      "|tt0000008|          5.4|    2090|\n",
      "|tt0000009|          5.3|     204|\n",
      "|tt0000010|          6.9|    7046|\n",
      "|tt0000011|          5.3|     361|\n",
      "|tt0000012|          7.4|   12088|\n",
      "|tt0000013|          5.7|    1866|\n",
      "|tt0000014|          7.1|    5436|\n",
      "|tt0000015|          6.2|    1062|\n",
      "|tt0000016|          5.9|    1480|\n",
      "|tt0000017|          4.6|     323|\n",
      "|tt0000018|          5.3|     586|\n",
      "|tt0000019|          5.1|      31|\n",
      "|tt0000020|          4.8|     356|\n",
      "+---------+-------------+--------+\n",
      "only showing top 20 rows\n",
      "\n"
     ]
    }
   ],
   "source": [
    "df_ratings = spark.read.csv('data/ratings.tsv', sep=r'\\t', header=True)\n",
    "df_ratings.show()"
   ]
  },
  {
   "cell_type": "code",
   "execution_count": 18,
   "metadata": {},
   "outputs": [
    {
     "name": "stdout",
     "output_type": "stream",
     "text": [
      "+---------+--------+--------------------+------+--------+-----------+--------------------+---------------+\n",
      "|  titleId|ordering|               title|region|language|      types|          attributes|isOriginalTitle|\n",
      "+---------+--------+--------------------+------+--------+-----------+--------------------+---------------+\n",
      "|tt0000001|       1|          Карменсіта|    UA|      \\N|imdbDisplay|                  \\N|              0|\n",
      "|tt0000001|       2|          Carmencita|    DE|      \\N|         \\N|       literal title|              0|\n",
      "|tt0000001|       3|Carmencita - span...|    HU|      \\N|imdbDisplay|                  \\N|              0|\n",
      "|tt0000001|       4|          Καρμενσίτα|    GR|      \\N|imdbDisplay|                  \\N|              0|\n",
      "|tt0000001|       5|          Карменсита|    RU|      \\N|imdbDisplay|                  \\N|              0|\n",
      "|tt0000001|       6|          Carmencita|    US|      \\N|imdbDisplay|                  \\N|              0|\n",
      "|tt0000001|       7|          Carmencita|    \\N|      \\N|   original|                  \\N|              1|\n",
      "|tt0000001|       8|      カルメンチータ|    JP|      ja|imdbDisplay|                  \\N|              0|\n",
      "|tt0000002|       1|Le clown et ses c...|    \\N|      \\N|   original|                  \\N|              1|\n",
      "|tt0000002|       2|Le clown et ses c...|    FR|      \\N|imdbDisplay|                  \\N|              0|\n",
      "|tt0000002|       3|   A bohóc és kutyái|    HU|      \\N|imdbDisplay|                  \\N|              0|\n",
      "|tt0000002|       4|Der Clown und sei...|    DE|      \\N|         \\N|       literal title|              0|\n",
      "|tt0000002|       5|Clovnul si cainii...|    RO|      \\N|imdbDisplay|                  \\N|              0|\n",
      "|tt0000002|       6|  Клоун и его собаки|    RU|      \\N|imdbDisplay|                  \\N|              0|\n",
      "|tt0000002|       7|The Clown and His...|    US|      \\N|         \\N|literal English t...|              0|\n",
      "|tt0000002|       8|          道化師と犬|    JP|      ja|imdbDisplay|                  \\N|              0|\n",
      "|tt0000003|       1|    Sarmanul Pierrot|    RO|      \\N|imdbDisplay|                  \\N|              0|\n",
      "|tt0000003|       2|     Szegény Pierrot|    HU|      \\N|imdbDisplay|                  \\N|              0|\n",
      "|tt0000003|       3|        哀れなピエロ|    JP|      ja|imdbDisplay|                  \\N|              0|\n",
      "|tt0000003|       4|        Бідний П'єро|    UA|      \\N|imdbDisplay|                  \\N|              0|\n",
      "+---------+--------+--------------------+------+--------+-----------+--------------------+---------------+\n",
      "only showing top 20 rows\n",
      "\n"
     ]
    }
   ],
   "source": [
    "df_title = spark.read.csv('data/title.tsv', sep=r'\\t', header=True)\n",
    "df_title.show()"
   ]
  }
 ],
 "metadata": {
  "kernelspec": {
   "display_name": "csci_620",
   "language": "python",
   "name": "python3"
  },
  "language_info": {
   "codemirror_mode": {
    "name": "ipython",
    "version": 3
   },
   "file_extension": ".py",
   "mimetype": "text/x-python",
   "name": "python",
   "nbconvert_exporter": "python",
   "pygments_lexer": "ipython3",
   "version": "3.8.16"
  },
  "orig_nbformat": 4
 },
 "nbformat": 4,
 "nbformat_minor": 2
}
